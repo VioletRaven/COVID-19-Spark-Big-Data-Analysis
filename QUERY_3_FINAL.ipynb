{
  "nbformat": 4,
  "nbformat_minor": 0,
  "metadata": {
    "colab": {
      "name": "QUERY_3_FINAL.ipynb",
      "provenance": [],
      "collapsed_sections": [],
      "include_colab_link": true
    },
    "kernelspec": {
      "name": "python3",
      "display_name": "Python 3"
    },
    "language_info": {
      "name": "python"
    }
  },
  "cells": [
    {
      "cell_type": "markdown",
      "metadata": {
        "id": "view-in-github",
        "colab_type": "text"
      },
      "source": [
        "<a href=\"https://colab.research.google.com/github/VioletRaven/COVID-19-Spark-Big-Data-Analysis/blob/main/QUERY_3_FINAL.ipynb\" target=\"_parent\"><img src=\"https://colab.research.google.com/assets/colab-badge.svg\" alt=\"Open In Colab\"/></a>"
      ]
    },
    {
      "cell_type": "code",
      "metadata": {
        "colab": {
          "base_uri": "https://localhost:8080/"
        },
        "id": "qam-VQVZxmaX",
        "outputId": "226d1844-8e47-4393-92cd-21071305e89a"
      },
      "source": [
        "from google.colab import drive\n",
        "drive.mount('/content/drive')"
      ],
      "execution_count": null,
      "outputs": [
        {
          "output_type": "stream",
          "text": [
            "Mounted at /content/drive\n"
          ],
          "name": "stdout"
        }
      ]
    },
    {
      "cell_type": "code",
      "metadata": {
        "id": "GVJQwNJJ5ITY"
      },
      "source": [
        "!apt-get install openjdk-8-jdk-headless -qq > /dev/null"
      ],
      "execution_count": null,
      "outputs": []
    },
    {
      "cell_type": "code",
      "metadata": {
        "id": "HIeYXpNOZxZ2"
      },
      "source": [
        "!wget -q https://archive.apache.org/dist/spark/spark-3.0.1/spark-3.0.1-bin-hadoop2.7.tgz"
      ],
      "execution_count": null,
      "outputs": []
    },
    {
      "cell_type": "code",
      "metadata": {
        "id": "6UffQQdoZOgF"
      },
      "source": [
        "!tar xf spark-3.0.1-bin-hadoop2.7.tgz\n",
        "!pip install -q findspark"
      ],
      "execution_count": null,
      "outputs": []
    },
    {
      "cell_type": "code",
      "metadata": {
        "id": "StVTRUpv2GMp"
      },
      "source": [
        "import os\n",
        "os.environ[\"JAVA_HOME\"] = \"/usr/lib/jvm/java-8-openjdk-amd64\"\n",
        "os.environ[\"SPARK_HOME\"] = \"/content/spark-3.0.1-bin-hadoop2.7\""
      ],
      "execution_count": null,
      "outputs": []
    },
    {
      "cell_type": "code",
      "metadata": {
        "id": "2Uch0yFyOJrE"
      },
      "source": [
        "#funziona ma non su colab\n",
        "import locale\n",
        "locale.setlocale(locale.LC_ALL, 'it_IT')"
      ],
      "execution_count": null,
      "outputs": []
    },
    {
      "cell_type": "code",
      "metadata": {
        "id": "we9SJK1XIBfN"
      },
      "source": [
        "import findspark\n",
        "\n",
        "findspark.init()\n",
        "findspark.find()\n",
        "\n",
        "from pyspark import SparkContext\n",
        "from datetime import datetime\n",
        "from calendar import monthrange"
      ],
      "execution_count": null,
      "outputs": []
    },
    {
      "cell_type": "code",
      "metadata": {
        "id": "GvvzxRxR16cz"
      },
      "source": [
        "# Inizializzo lo Spark Context\n",
        "sc = SparkContext(\"local[2]\", \"query_1.0\")"
      ],
      "execution_count": null,
      "outputs": []
    },
    {
      "cell_type": "markdown",
      "metadata": {
        "id": "-7QlTWl5FIq3"
      },
      "source": [
        "Utilizzando somministrazioni-vaccini-summary-latest.csv, per il nord, centro e sud, determinare le tre aree (o regioni) che hanno registrato la percentuale piu` alta di popolazione vaccinata. Per il calcolo della statistica, considerare il totale del numero di prime dosi somministrate a partire dal 27 Dicembre 2020 e fino al 30 Giugno 2021. \n",
        "\n",
        "Inoltre, per calcolare la percentuale di popolazione vaccinata, considerare il file totale-popolazione.csv inviato via email, contenente per ogni regione il totale della popolazione stimata nel 2021.\n",
        "\n",
        "Esempio di output:\n",
        "\n",
        "Nord, Liguria, 54.19%\n",
        "... altre 2 regioni del Nord... Centro, Umbria, 49.98%\n",
        "... altre 2 regioni del Centro... Sud, Abruzzo, 50.71%\n",
        "... altre 2 regioni del Sud...\n",
        "\n",
        "Suggerimento: per determinare le regioni appartenenti al nord, centro e sud, e` possibile consultare liste definite staticamente."
      ]
    },
    {
      "cell_type": "code",
      "metadata": {
        "id": "j9rE_UlMInYU"
      },
      "source": [
        "# secondo la suddivisione geografica fornita dall'ISTAT le 3 zone d'Italia (nord, centro, sud) sono così definite:\n",
        "\n",
        "# NORD = Liguria, Lombardia, Piemonte, Valle d'Aosta, Emilia-Romagna, Friuli-Venezia Giulia, Trentino-Alto Adige, Veneto\n",
        "\n",
        "# CENTRO = Lazio, Marche, Toscana, Umbria\n",
        "\n",
        "# SUD = Abruzzo, Basilicata, Calabria, Campania, Molise, Puglia, Sardegna, Sicilia"
      ],
      "execution_count": null,
      "outputs": []
    },
    {
      "cell_type": "code",
      "metadata": {
        "id": "l3w-F_i_MHMo"
      },
      "source": [
        "data = sc.textFile(\"/content/drive/MyDrive/Colab Notebooks/somministrazioni-vaccini-latest.csv\")\n",
        "\n",
        "#Identifico la prima riga che contiene le intestazioni e la elimino dall'RDD\n",
        "header = data.first()\n",
        "data = data.filter(lambda x: x != header).map(lambda line: line.split(','))"
      ],
      "execution_count": null,
      "outputs": []
    },
    {
      "cell_type": "code",
      "metadata": {
        "id": "A_80ijJTKZna"
      },
      "source": [
        "data_2 = sc.textFile(\"/content/drive/MyDrive/Colab Notebooks/totale-popolazione.csv\")\n",
        "\n",
        "header_2 = data_2.first()\n",
        "#remove empty lines\n",
        "data_2 = data_2.filter(lambda x: x != header_2) \\\n",
        "         .filter(lambda x: x != '').map(lambda line : line.split(',')).map(lambda x: (x[0], int(x[1] )))  \n",
        "        "
      ],
      "execution_count": null,
      "outputs": []
    },
    {
      "cell_type": "code",
      "metadata": {
        "id": "-4y3HhpmV_6N"
      },
      "source": [
        "nord = ['Liguria', 'Lombardia', 'Piemonte', \"Valle d'Aosta / Vallee d'Aoste\", 'Emilia-Romagna', 'Friuli-Venezia Giulia', 'Provincia Autonoma Trento','Veneto', 'Provincia Autonoma Bolzano / Bozen']\n",
        "centro = ['Lazio', 'Marche', 'Toscana', 'Umbria']\n",
        "sud = ['Abruzzo', 'Basilicata', 'Calabria', 'Campania', 'Molise', 'Puglia', 'Sardegna', 'Sicilia']\n",
        "\n",
        "regions = ['Liguria', 'Lombardia', 'Piemonte', \"Valle d'Aosta / Vallee d'Aoste\", 'Emilia-Romagna', 'Friuli-Venezia Giulia', \n",
        "           'Provincia Autonoma Trento','Veneto', 'Lazio', 'Marche', 'Toscana', 'Umbria', 'Provincia Autonoma Bolzano / Bozen',\n",
        "           'Abruzzo', 'Basilicata', 'Calabria', 'Campania', 'Molise', 'Puglia', 'Sardegna', 'Sicilia']\n",
        "\n",
        "def region_sorter(data):\n",
        "  for i in regions:\n",
        "    if i == data:\n",
        "      if data in nord:\n",
        "        return 'Nord'\n",
        "      elif data in centro:\n",
        "        return 'Centro'\n",
        "      else:\n",
        "        return 'Sud'\n",
        "\n",
        "data_2 = data_2.map(lambda x: ( (x[0]), (region_sorter(x[0]), x[1])))\n"
      ],
      "execution_count": null,
      "outputs": []
    },
    {
      "cell_type": "code",
      "metadata": {
        "id": "yhpKP3jlRAql"
      },
      "source": [
        "# dal 27 Dicembre 2020 fino al 30 Giugno 2021.\n",
        "data = data.map(lambda x: (  ( str( x[11] ), int( x[6] ) ) ) ).reduceByKey(lambda x, y: x + y)"
      ],
      "execution_count": null,
      "outputs": []
    },
    {
      "cell_type": "code",
      "metadata": {
        "id": "JHvxQ9cUOD8m"
      },
      "source": [
        "rdd = data_2.join(data)"
      ],
      "execution_count": null,
      "outputs": []
    },
    {
      "cell_type": "code",
      "metadata": {
        "id": "Z4BMp7R0OEyA",
        "colab": {
          "base_uri": "https://localhost:8080/"
        },
        "outputId": "71172df8-6356-4cf6-c7c3-de3d2c8dec96"
      },
      "source": [
        "rdd_percentage = rdd.map(lambda x: (x[1][0][0], x[0], round((x[1][1] / x[1][0][1] ) * 100)))"
      ],
      "execution_count": null,
      "outputs": [
        {
          "output_type": "execute_result",
          "data": {
            "text/plain": [
              "[('Nord', 'Emilia-Romagna', 52),\n",
              " ('Nord', 'Liguria', 54),\n",
              " ('Nord', 'Provincia Autonoma Bolzano / Bozen', 48),\n",
              " ('Sud', 'Molise', 57),\n",
              " ('Nord', 'Provincia Autonoma Trento', 46)]"
            ]
          },
          "metadata": {
            "tags": []
          },
          "execution_count": 17
        }
      ]
    },
    {
      "cell_type": "code",
      "metadata": {
        "id": "Nu30CQ92XnPL"
      },
      "source": [
        "sorted_rdd = rdd_percentage.map(lambda x:  (x[2],  ( x[0], x[1]  ) ) ).sortBy(lambda x: x[0], ascending = False)"
      ],
      "execution_count": null,
      "outputs": []
    },
    {
      "cell_type": "code",
      "metadata": {
        "id": "5IpVcQArHFzV"
      },
      "source": [
        "from heapq import nlargest\n",
        "\n",
        "final_rdd = sorted_rdd.groupBy(lambda x: x[1][0]).flatMap(lambda k: nlargest(3, k[1], key=lambda x: x[0]))\n",
        "final_rdd = final_rdd.map(lambda x: ( x[1][0], x[1][1], x[0]))"
      ],
      "execution_count": null,
      "outputs": []
    },
    {
      "cell_type": "code",
      "metadata": {
        "id": "WKR1ZM89JZNp"
      },
      "source": [
        "final_rdd.coalesce(1).saveAsTextFile('/content/drive/MyDrive/Colab Notebooks/output_6')"
      ],
      "execution_count": null,
      "outputs": []
    },
    {
      "cell_type": "code",
      "metadata": {
        "id": "3IuLY1ftbfGN"
      },
      "source": [
        "sc.stop()"
      ],
      "execution_count": null,
      "outputs": []
    }
  ]
}