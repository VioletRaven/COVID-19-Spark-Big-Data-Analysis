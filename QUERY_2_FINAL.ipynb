{
  "nbformat": 4,
  "nbformat_minor": 0,
  "metadata": {
    "colab": {
      "name": "QUERY_2_FINAL.ipynb",
      "provenance": [],
      "collapsed_sections": [],
      "include_colab_link": true
    },
    "kernelspec": {
      "display_name": "Python 3",
      "name": "python3"
    },
    "language_info": {
      "name": "python"
    }
  },
  "cells": [
    {
      "cell_type": "markdown",
      "metadata": {
        "id": "view-in-github",
        "colab_type": "text"
      },
      "source": [
        "<a href=\"https://colab.research.google.com/github/VioletRaven/COVID-19-Spark-Big-Data-Analysis/blob/main/QUERY_2_FINAL.ipynb\" target=\"_parent\"><img src=\"https://colab.research.google.com/assets/colab-badge.svg\" alt=\"Open In Colab\"/></a>"
      ]
    },
    {
      "cell_type": "code",
      "metadata": {
        "colab": {
          "base_uri": "https://localhost:8080/"
        },
        "id": "qam-VQVZxmaX",
        "outputId": "c6881ebb-9277-4dfa-ed19-a9fc78721821"
      },
      "source": [
        "from google.colab import drive\n",
        "drive.mount('/content/drive')"
      ],
      "execution_count": null,
      "outputs": [
        {
          "output_type": "stream",
          "text": [
            "Mounted at /content/drive\n"
          ],
          "name": "stdout"
        }
      ]
    },
    {
      "cell_type": "code",
      "metadata": {
        "id": "GVJQwNJJ5ITY"
      },
      "source": [
        "!apt-get install openjdk-8-jdk-headless -qq > /dev/null"
      ],
      "execution_count": null,
      "outputs": []
    },
    {
      "cell_type": "code",
      "metadata": {
        "id": "HIeYXpNOZxZ2"
      },
      "source": [
        "!wget -q https://archive.apache.org/dist/spark/spark-3.0.1/spark-3.0.1-bin-hadoop2.7.tgz"
      ],
      "execution_count": null,
      "outputs": []
    },
    {
      "cell_type": "code",
      "metadata": {
        "id": "6UffQQdoZOgF"
      },
      "source": [
        "!tar xf spark-3.0.1-bin-hadoop2.7.tgz\n",
        "!pip install -q findspark"
      ],
      "execution_count": null,
      "outputs": []
    },
    {
      "cell_type": "code",
      "metadata": {
        "id": "StVTRUpv2GMp"
      },
      "source": [
        "import os\n",
        "os.environ[\"JAVA_HOME\"] = \"/usr/lib/jvm/java-8-openjdk-amd64\"\n",
        "os.environ[\"SPARK_HOME\"] = \"/content/spark-3.0.1-bin-hadoop2.7\""
      ],
      "execution_count": null,
      "outputs": []
    },
    {
      "cell_type": "code",
      "metadata": {
        "id": "2Uch0yFyOJrE"
      },
      "source": [
        "#funziona ma non su colab\n",
        "#import locale\n",
        "#export LC_ALL=\"it_IT.UTF-8\"\n",
        "#export LC_CTYPE=\"it_IT.UTF-8\"\n",
        "#sudo dpkg-reconfigure locales\n",
        "\n",
        "#locale.setlocale(locale.LC_ALL, 'it_IT')"
      ],
      "execution_count": null,
      "outputs": []
    },
    {
      "cell_type": "code",
      "metadata": {
        "id": "we9SJK1XIBfN"
      },
      "source": [
        "import findspark\n",
        "\n",
        "findspark.init()\n",
        "findspark.find()\n",
        "\n",
        "from pyspark import SparkContext\n",
        "from datetime import datetime\n",
        "from calendar import monthrange"
      ],
      "execution_count": null,
      "outputs": []
    },
    {
      "cell_type": "code",
      "metadata": {
        "id": "GvvzxRxR16cz"
      },
      "source": [
        "# Inizializzo lo Spark Context\n",
        "sc = SparkContext(\"local[2]\", \"query_2\")"
      ],
      "execution_count": null,
      "outputs": []
    },
    {
      "cell_type": "code",
      "metadata": {
        "id": "9RszGK_AGr3y"
      },
      "source": [
        "#Q2 \n",
        "#Utilizzando somministrazioni-vaccini-latest.csv, per le donne, per ogni fascia anagrafica, per ogni mese solare e per ogni \n",
        "#area (o regione), determinare il minimo, il massimo e la media aritmetica del numero di vaccinazioni effettuate nel mese in esame.\n",
        "#Per la risoluzione della query, considerare le sole fasce anagrafiche per cui nel mese solare in esa- me vengono registrati almeno \n",
        "#due giorni di campagna vaccinale. Considerare i dati a partire dall’1 Gennaio 2021.\n",
        "#Esempio di output:\n",
        "#Gennaio, 20-29, Lazio, 20, 50, 42.8 (assumendo che 20 sia il minimo, 50 il massimo e 42.8 il numero medio di vaccinazioni effettuate nel mese di Gennaio dalla regione Lazio per la fascia d’eta 20-29)\n",
        "#Gennaio, 30-39, Lazio, 30, 60, 51.7 (assumendo che 30 sia il minimo, 60 il massimo e 51.7 il numero medio di vaccinazioni effettuate nel mese di Gennaio dalla regione Lazio per la fascia d’eta` 30-39) ..."
      ],
      "execution_count": null,
      "outputs": []
    },
    {
      "cell_type": "code",
      "metadata": {
        "id": "0lJkqHGQ-YAH"
      },
      "source": [
        "# Carico il dataset n°1 somministrazioni-vaccini-latest.csv\n",
        "# Creo un RDD\n",
        "data = sc.textFile(\"/content/drive/MyDrive/Colab Notebooks/somministrazioni-vaccini-latest.csv\")\n",
        "\n",
        "#Identifico la prima riga che contiene le intestazioni e la escludo dall'RDD\n",
        "header = data.first()\n",
        "data = data.filter(lambda x: x != header)"
      ],
      "execution_count": null,
      "outputs": []
    },
    {
      "cell_type": "code",
      "metadata": {
        "id": "gK40AOJHAO9l"
      },
      "source": [
        "#Step 0 Splitto l'RDD del dataset n°1 per il separatore di campo virgola\n",
        "#Step 1 Filtro l'RDD ottenuto per avere solo i dati compresi tra il 1 Gennaio 2021 e il 30 Giugno 2021 (da fare) NO\n",
        "#Step 2 Splitto l'RDD del dataset n°2 per il separatore di campo virgola\n",
        "\n",
        "#split lines with ' , ' \n",
        "#apply filter to years equal to 2021\n",
        "#filtro prendendo solo le righe per cui risultano non nulle le vaccinazioni a donne\n",
        "#filtro per ottenere solo i valori nel 2021\n",
        "data = data.map(lambda line : line.split(',')) \\\n",
        "           .filter(lambda x: x[0].split('-')[0] == '2021') \\\n",
        "           .map(lambda x: ( ( ( datetime.strptime( x[0][:10], '%Y-%m-%d' ).month ), #mese a numero\n",
        "                           str(x[3]),#fascia d'età\n",
        "                           str(x[11])), #regione\n",
        "                           int(x[5]) #donne vaccinate\n",
        "                           )        \n",
        "           ) \n",
        "\n",
        "# facendo così non elimini la fascia d'età delle donne dove solo una donna si è vaccinata in quel mese ma mantieni le singole donne quando vai ad aggregare.\n",
        "#quindi invece del .filter(lambda x: x[5] != '0') ho fatto \n",
        "\n",
        "# creo un indice 1 se i vaccini sono > 1 e 0 altrimenti, elimino se 0\n",
        "\n",
        "data = data.map( lambda x: ( x[0], ( x[1], 1 ) if x[1] > 1 else ( x[1], 0 ) ) ).filter( lambda x: x[1][1] != 0 ).map( lambda x: ( ( x[0] ) , x[1][0] ) )\n",
        "                                           \n",
        "# si può anche mettere tutto insieme ma per ora è meglio capire quello che faccia"
      ],
      "execution_count": null,
      "outputs": []
    },
    {
      "cell_type": "code",
      "metadata": {
        "id": "xMJlC4Fo9MEm"
      },
      "source": [
        "data = data.groupByKey().mapValues(lambda x: (min(x), max(x), round(sum(x)/len(x)))) \\\n",
        "                  .sortBy(lambda x: x[0][1]) \\\n",
        "                  .sortBy(lambda x: x[0][0]) \\\n",
        "                  .map(lambda x: ( datetime.strptime(str(x[0][0]), \"%m\").strftime(\"%B\"), x[0][1], x[0][2], x[1][0], x[1][1], x[1][2] )) \\\n",
        "                  .sortBy(lambda x: x[2]) \n",
        "                  "
      ],
      "execution_count": null,
      "outputs": []
    },
    {
      "cell_type": "code",
      "metadata": {
        "colab": {
          "base_uri": "https://localhost:8080/"
        },
        "id": "j0FA9rzS9uEV",
        "outputId": "5ab8242e-bea6-433f-8039-a1794710eb84"
      },
      "source": [
        "data.take(25)"
      ],
      "execution_count": null,
      "outputs": [
        {
          "output_type": "execute_result",
          "data": {
            "text/plain": [
              "[('January', '12-19', 'Abruzzo', 2, 2, 2),\n",
              " ('January', '20-29', 'Abruzzo', 3, 120, 57),\n",
              " ('January', '30-39', 'Abruzzo', 2, 233, 101),\n",
              " ('January', '40-49', 'Abruzzo', 2, 295, 133),\n",
              " ('January', '50-59', 'Abruzzo', 3, 346, 163),\n",
              " ('January', '60-69', 'Abruzzo', 2, 217, 94),\n",
              " ('January', '70-79', 'Abruzzo', 2, 26, 8),\n",
              " ('January', '80-89', 'Abruzzo', 4, 34, 17),\n",
              " ('January', '90+', 'Abruzzo', 3, 44, 15),\n",
              " ('February', '12-19', 'Abruzzo', 2, 8, 4),\n",
              " ('February', '20-29', 'Abruzzo', 2, 146, 53),\n",
              " ('February', '30-39', 'Abruzzo', 2, 266, 81),\n",
              " ('February', '40-49', 'Abruzzo', 2, 613, 98),\n",
              " ('February', '50-59', 'Abruzzo', 2, 790, 124),\n",
              " ('February', '60-69', 'Abruzzo', 2, 320, 72),\n",
              " ('February', '70-79', 'Abruzzo', 2, 31, 15),\n",
              " ('February', '80-89', 'Abruzzo', 2, 866, 202),\n",
              " ('February', '90+', 'Abruzzo', 2, 328, 83),\n",
              " ('March', '12-19', 'Abruzzo', 2, 13, 5),\n",
              " ('March', '20-29', 'Abruzzo', 2, 229, 67),\n",
              " ('March', '30-39', 'Abruzzo', 2, 263, 82),\n",
              " ('March', '40-49', 'Abruzzo', 3, 520, 119),\n",
              " ('March', '50-59', 'Abruzzo', 2, 714, 154),\n",
              " ('March', '60-69', 'Abruzzo', 2, 374, 97),\n",
              " ('March', '70-79', 'Abruzzo', 2, 294, 34)]"
            ]
          },
          "metadata": {
            "tags": []
          },
          "execution_count": 111
        }
      ]
    },
    {
      "cell_type": "code",
      "metadata": {
        "id": "78jjjJgABNbY"
      },
      "source": [
        "data.coalesce(1).saveAsTextFile(\"/content/drive/MyDrive/Colab Notebooks/output_query_2_2\")"
      ],
      "execution_count": null,
      "outputs": []
    },
    {
      "cell_type": "code",
      "metadata": {
        "id": "MBBSbCrHEsd0"
      },
      "source": [
        "sc.stop()"
      ],
      "execution_count": null,
      "outputs": []
    }
  ]
}