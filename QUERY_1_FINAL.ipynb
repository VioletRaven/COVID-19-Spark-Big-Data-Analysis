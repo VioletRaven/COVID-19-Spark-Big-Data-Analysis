{
  "nbformat": 4,
  "nbformat_minor": 0,
  "metadata": {
    "colab": {
      "name": "QUERY_1_FINAL.ipynb",
      "provenance": [],
      "collapsed_sections": [],
      "include_colab_link": true
    },
    "kernelspec": {
      "name": "python3",
      "display_name": "Python 3"
    },
    "language_info": {
      "name": "python"
    },
    "accelerator": "GPU"
  },
  "cells": [
    {
      "cell_type": "markdown",
      "metadata": {
        "id": "view-in-github",
        "colab_type": "text"
      },
      "source": [
        "<a href=\"https://colab.research.google.com/github/VioletRaven/COVID-19-Spark-Big-Data-Analysis/blob/main/QUERY_1_FINAL.ipynb\" target=\"_parent\"><img src=\"https://colab.research.google.com/assets/colab-badge.svg\" alt=\"Open In Colab\"/></a>"
      ]
    },
    {
      "cell_type": "code",
      "metadata": {
        "colab": {
          "base_uri": "https://localhost:8080/"
        },
        "id": "qam-VQVZxmaX",
        "outputId": "7ffa36c5-a3a4-49ef-fec4-38a7704d5adc"
      },
      "source": [
        "from google.colab import drive\n",
        "drive.mount('/content/drive')"
      ],
      "execution_count": null,
      "outputs": [
        {
          "output_type": "stream",
          "text": [
            "Mounted at /content/drive\n"
          ],
          "name": "stdout"
        }
      ]
    },
    {
      "cell_type": "code",
      "metadata": {
        "id": "GVJQwNJJ5ITY"
      },
      "source": [
        "!apt-get install openjdk-8-jdk-headless -qq > /dev/null"
      ],
      "execution_count": null,
      "outputs": []
    },
    {
      "cell_type": "code",
      "metadata": {
        "id": "HIeYXpNOZxZ2"
      },
      "source": [
        "!wget -q https://archive.apache.org/dist/spark/spark-3.0.1/spark-3.0.1-bin-hadoop2.7.tgz"
      ],
      "execution_count": null,
      "outputs": []
    },
    {
      "cell_type": "code",
      "metadata": {
        "id": "6UffQQdoZOgF"
      },
      "source": [
        "!tar xf spark-3.0.1-bin-hadoop2.7.tgz\n",
        "!pip install -q findspark"
      ],
      "execution_count": null,
      "outputs": []
    },
    {
      "cell_type": "code",
      "metadata": {
        "id": "StVTRUpv2GMp"
      },
      "source": [
        "import os\n",
        "os.environ[\"JAVA_HOME\"] = \"/usr/lib/jvm/java-8-openjdk-amd64\"\n",
        "os.environ[\"SPARK_HOME\"] = \"/content/spark-3.0.1-bin-hadoop2.7\""
      ],
      "execution_count": null,
      "outputs": []
    },
    {
      "cell_type": "code",
      "metadata": {
        "id": "2Uch0yFyOJrE"
      },
      "source": [
        "#funziona ma non su colab\n",
        "#import locale\n",
        "#locale.setlocale(locale.LC_ALL, 'it_IT')"
      ],
      "execution_count": null,
      "outputs": []
    },
    {
      "cell_type": "code",
      "metadata": {
        "id": "we9SJK1XIBfN"
      },
      "source": [
        "import findspark\n",
        "\n",
        "findspark.init()\n",
        "findspark.find()\n",
        "\n",
        "from pyspark import SparkContext\n",
        "from datetime import datetime\n",
        "from calendar import monthrange"
      ],
      "execution_count": null,
      "outputs": []
    },
    {
      "cell_type": "code",
      "metadata": {
        "id": "GvvzxRxR16cz"
      },
      "source": [
        "# Inizializzo lo Spark Context\n",
        "sc = SparkContext(\"local[2]\", \"query_1\")"
      ],
      "execution_count": null,
      "outputs": []
    },
    {
      "cell_type": "code",
      "metadata": {
        "id": "ZEByE1bY8S_A"
      },
      "source": [
        "# Q1 --> Utilizzando somministrazioni-vaccini-summary-latest.csv e punti-somministrazione-tipologia.csv, per ogni mese solare e per ciascuna area \n",
        "# (o regione), calcolare il numero medio di somministrazioni che `e stato effettuato giornalmente in un centro vaccinale generico in quell’area e durante quel mese.\n",
        "# Considerare i dati a partire dall’1 Gennaio 2021."
      ],
      "execution_count": null,
      "outputs": []
    },
    {
      "cell_type": "code",
      "metadata": {
        "id": "0lJkqHGQ-YAH"
      },
      "source": [
        "# Carico il dataset n°1 somministrazioni-vaccini-summary-latest.csv\n",
        "# Creo un RDD\n",
        "data = sc.textFile(\"/content/drive/MyDrive/Colab Notebooks/somministrazioni-vaccini-summary-latest.csv\")\n",
        "# Carico il dataset n°2 punti-somministrazione-tipologia.csv\n",
        "# Creo un RDD\n",
        "data_2 = sc.textFile(\"/content/drive/MyDrive/Colab Notebooks/punti-somministrazione-tipologia.csv\")\n",
        "\n",
        "#Identifico la prima riga (sia per il dataset n°1 che per il dataset n°2) che contiene le intestazioni e la escludo dall'RDD\n",
        "header = data.first()\n",
        "data = data.filter(lambda x: x != header)\n",
        "\n",
        "header_2 = data_2.first()\n",
        "data_2 = data_2.filter(lambda x: x != header_2)\n",
        "\n",
        "#Step 0 Splitto l'RDD del dataset n°1 per il separatore di campo virgola\n",
        "#Step 1 Filtro l'RDD ottenuto per avere solo i dati compresi tra il 1 Gennaio 2021 e il 30 Giugno 2021 (da fare) NO\n",
        "#Step 2 Splitto l'RDD del dataset n°2 per il separatore di campo virgola\n",
        "\n",
        "data = data.map(lambda line : line.split(',')) \\\n",
        "       .filter(lambda x: x[0].split('-')[0] == '2021')\n",
        "\n",
        "data_2 = data_2.map(lambda line:line.split(',')) "
      ],
      "execution_count": null,
      "outputs": []
    },
    {
      "cell_type": "code",
      "metadata": {
        "id": "nietnvd3O_qZ",
        "colab": {
          "base_uri": "https://localhost:8080/"
        },
        "outputId": "d9617587-5d5e-41c1-9f42-1ae3dd33d634"
      },
      "source": [
        "#Dataset n°1 \n",
        "#Step 3 Mappo con K (Regione, Mese), e V (totale somministrazioni)\n",
        "#Step 3 Riduco su base chiave con K (Regione, Mese) e V (totale somministrazioni)\n",
        "#Step 4 Mappo con K (Regione) e V (Mese, totale somministrazioni)\n",
        "#Step 5 Ordino su base chiave\n",
        "data = data.map(lambda x: (  ( (str(x[10]) ), ( datetime.strptime( x[0][:10], '%Y-%m-%d' ).month ) ), int(x[2] ) ) ) \\\n",
        "                .reduceByKey(lambda a, b: a + b) \\\n",
        "                .map(lambda x: ( ( x[0][0] ) , (x[0][1], x[1] ) ) ) \\\n",
        "                .sortByKey()"
      ],
      "execution_count": null,
      "outputs": [
        {
          "output_type": "execute_result",
          "data": {
            "text/plain": [
              "[('Abruzzo', (1, 29904))]"
            ]
          },
          "metadata": {
            "tags": []
          },
          "execution_count": 56
        }
      ]
    },
    {
      "cell_type": "code",
      "metadata": {
        "id": "lFk87wbzPC0Z",
        "colab": {
          "base_uri": "https://localhost:8080/"
        },
        "outputId": "6b9548a7-5bbc-4cbd-e891-c4ae4fd87c16"
      },
      "source": [
        "#Dataset n°2\n",
        "#step 5 Mappo con K (Regione) e V(1) per assegnare ad ogni clinica valore 1\n",
        "#Step 6 Riduco su base chiave con K (Regione) e V (somma tra gli uno) così da contare il numero di centri per regione\n",
        "\n",
        "clinics = data_2.map(lambda x: (str(x[6]), 1)).reduceByKey(lambda x, y: x + y)"
      ],
      "execution_count": null,
      "outputs": [
        {
          "output_type": "execute_result",
          "data": {
            "text/plain": [
              "[('Campania', 53)]"
            ]
          },
          "metadata": {
            "tags": []
          },
          "execution_count": 57
        }
      ]
    },
    {
      "cell_type": "code",
      "metadata": {
        "id": "xECkherkFtxB",
        "colab": {
          "base_uri": "https://localhost:8080/"
        },
        "outputId": "930c0f6b-5889-4ea5-d66c-844c6b77c83e"
      },
      "source": [
        "#Step 7 Con la funzione di join unisco i due RDD creandone uno unico, \n",
        "#ottenendo K (Regione) e V((Mese, totale somministrazioni), numero centri)        \n",
        "rdd = data.join(clinics)"
      ],
      "execution_count": null,
      "outputs": [
        {
          "output_type": "execute_result",
          "data": {
            "text/plain": [
              "[('Emilia-Romagna', ((4, 761760), 160))]"
            ]
          },
          "metadata": {
            "tags": []
          },
          "execution_count": 58
        }
      ]
    },
    {
      "cell_type": "code",
      "metadata": {
        "id": "wUMEQxnvK2We",
        "colab": {
          "base_uri": "https://localhost:8080/"
        },
        "outputId": "e08438d8-f6e1-4d9f-d9e4-0430ab5b5c2c"
      },
      "source": [
        "#Step 8 Mappo con K (Regione) e V (Mese, numero medio di somministrazioni per clinica = totale somministrazioni / numero di centri)\n",
        "#Step 9 Prendo Mese, Regione, Numero medio\n",
        "#Step 10 Mappo Mese, Regione, numero medio di somministrazioni effettuato giornalmente in un centro generico = rapporto tra numero medio e i giorni nel mese specifico\n",
        "#Step 11 Ordino in ordine crescente per i mesi\n",
        "#Step 12 Ordino in ordine alfabetico le regioni\n",
        "#Step 13 Mappo trasformando il numero del mese in nome del mese, Regione, numero medio di somministrazioni effettuato giornalmente in un centro generico\n",
        "rdd = rdd.map(lambda x: ( x[0], ( x[1][0][0], round( x[1][0][1] / x[1][1] ) ) ) ) \\\n",
        "         .map(lambda x: ( x[1][0] , x[0], x[1][1]) ) \\\n",
        "         .map(lambda x: ( x[0],  x[1], round( ( x[2] / monthrange(2021, x[0] ) [1] ) ) ) )\\\n",
        "         .sortBy(lambda x: x[0]) \\\n",
        "         .sortBy(lambda x: x[1]) \\\n",
        "         .map(lambda x: ( datetime.strptime ( str(x[0]),  \"%m\" ).strftime ( \"%B\" ) , x[1], x[2]) ) "
      ],
      "execution_count": null,
      "outputs": [
        {
          "output_type": "execute_result",
          "data": {
            "text/plain": [
              "[('January', 'Abruzzo', 16)]"
            ]
          },
          "metadata": {
            "tags": []
          },
          "execution_count": 59
        }
      ]
    },
    {
      "cell_type": "code",
      "metadata": {
        "id": "WKR1ZM89JZNp"
      },
      "source": [
        "# Salvo il file in hdfs\n",
        "rdd.coalesce(1).saveAsTextFile('/content/drive/MyDrive/Colab Notebooks/output_5')"
      ],
      "execution_count": null,
      "outputs": []
    }
  ]
}